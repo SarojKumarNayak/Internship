{
 "cells": [
  {
   "cell_type": "code",
   "execution_count": null,
   "id": "b8373f88",
   "metadata": {},
   "outputs": [],
   "source": [
    "# To find factorial of a Number\n",
    "num = 8\n",
    "\n",
    "factorial = 1\n",
    "if num < 0:\n",
    "   print(\"Sorry, factorial does not exist for negative numbers\")\n",
    "elif num == 0:\n",
    "   print(\"The factorial of 0 is 1\")\n",
    "else:\n",
    "   for i in range(1,num + 1):\n",
    "       factorial = factorial*i\n",
    "   print(\"The factorial of\",num,\"is\",factorial)"
   ]
  },
  {
   "cell_type": "code",
   "execution_count": null,
   "id": "6276e61b",
   "metadata": {},
   "outputs": [],
   "source": [
    "# Please give a input\n",
    "number = int(input(\"Enter a number to find if it is prime number: \"))\n",
    "\n",
    "flag = False\n",
    "\n",
    "\n",
    "if num > 1:\n",
    "    \n",
    "    for i in range(2, number):\n",
    "        if (number % i) == 0:\n",
    "            flag = True\n",
    "           \n",
    "            break\n",
    "\n",
    "if flag:\n",
    "    print(number, \"is not a prime number\")\n",
    "else:\n",
    "    print(number, \"is a prime number\")"
   ]
  },
  {
   "cell_type": "code",
   "execution_count": 1,
   "id": "90167e70",
   "metadata": {},
   "outputs": [
    {
     "name": "stdout",
     "output_type": "stream",
     "text": [
      "Please enetr a string :saroj\n",
      "No\n"
     ]
    }
   ],
   "source": [
    "def isPalindrome(string):\n",
    "    return string == string[::-1]\n",
    " \n",
    " \n",
    "# Driver code\n",
    "string = input(\"Please enetr a string :\")\n",
    "ans = isPalindrome(string)\n",
    " \n",
    "if ans:\n",
    "    print(\"Yes\")\n",
    "else:\n",
    "    print(\"No\")\n",
    "    \n"
   ]
  },
  {
   "cell_type": "code",
   "execution_count": 14,
   "id": "94fc85b1",
   "metadata": {},
   "outputs": [
    {
     "name": "stdout",
     "output_type": "stream",
     "text": [
      "Please enter a string :Brother\n",
      "{'B': 1}\n",
      "{'B': 1, 'r': 1}\n",
      "{'B': 1, 'r': 1, 'o': 1}\n",
      "{'B': 1, 'r': 1, 'o': 1, 't': 1}\n",
      "{'B': 1, 'r': 1, 'o': 1, 't': 1, 'h': 1}\n",
      "{'B': 1, 'r': 1, 'o': 1, 't': 1, 'h': 1, 'e': 1}\n",
      "{'B': 1, 'r': 2, 'o': 1, 't': 1, 'h': 1, 'e': 1}\n"
     ]
    }
   ],
   "source": [
    "String = input(\"Please enter a string :\")\n",
    "Dic = dict()\n",
    "for c in String:\n",
    "    Dic[c] = Dic.get(c, 0) + 1\n",
    "    print(Dic)"
   ]
  },
  {
   "cell_type": "code",
   "execution_count": null,
   "id": "157abb32",
   "metadata": {},
   "outputs": [],
   "source": []
  }
 ],
 "metadata": {
  "kernelspec": {
   "display_name": "Python 3",
   "language": "python",
   "name": "python3"
  },
  "language_info": {
   "codemirror_mode": {
    "name": "ipython",
    "version": 3
   },
   "file_extension": ".py",
   "mimetype": "text/x-python",
   "name": "python",
   "nbconvert_exporter": "python",
   "pygments_lexer": "ipython3",
   "version": "3.8.8"
  },
  "widgets": {
   "application/vnd.jupyter.widget-state+json": {
    "state": {},
    "version_major": 2,
    "version_minor": 0
   }
  }
 },
 "nbformat": 4,
 "nbformat_minor": 5
}
